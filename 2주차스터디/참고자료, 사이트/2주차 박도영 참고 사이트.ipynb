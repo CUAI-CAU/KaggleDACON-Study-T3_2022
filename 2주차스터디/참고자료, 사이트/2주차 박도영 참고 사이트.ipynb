{
 "cells": [
  {
   "cell_type": "markdown",
   "id": "fa0ebd5d",
   "metadata": {},
   "source": [
    "### tensorflow.flow() 사용법\n",
    "\n",
    "https://techblog-history-younghunjo1.tistory.com/261\n",
    "\n",
    "### tensorflow.flow.next() 사용법\n",
    "\n",
    "https://ballentain.tistory.com/4\n",
    "\n",
    "### 배치사이즈, 에포크, 반복(iteration) 차이\n",
    "\n",
    "https://losskatsu.github.io/machine-learning/epoch-batch/#3-epoch%EC%9D%98-%EC%9D%98%EB%AF%B8\n",
    "\n",
    "### 레고블록으로 이해하는 CNN(추천!)\n",
    "\n",
    "https://tykimos.github.io/2017/01/27/CNN_Layer_Talk/\n",
    "\n",
    "### 파일 이름 취득(glob)\n",
    "\n",
    "https://ponyozzang.tistory.com/545"
   ]
  },
  {
   "cell_type": "code",
   "execution_count": null,
   "id": "6417dd37",
   "metadata": {},
   "outputs": [],
   "source": []
  }
 ],
 "metadata": {
  "kernelspec": {
   "display_name": "Python 3 (ipykernel)",
   "language": "python",
   "name": "python3"
  },
  "language_info": {
   "codemirror_mode": {
    "name": "ipython",
    "version": 3
   },
   "file_extension": ".py",
   "mimetype": "text/x-python",
   "name": "python",
   "nbconvert_exporter": "python",
   "pygments_lexer": "ipython3",
   "version": "3.9.7"
  }
 },
 "nbformat": 4,
 "nbformat_minor": 5
}
